{
 "cells": [
  {
   "cell_type": "code",
   "execution_count": 1,
   "metadata": {},
   "outputs": [],
   "source": [
    "import pandas\n",
    "from bokeh.plotting import figure, output_file, show\n",
    "#from bokeh.models import ColumnDataSource, CDSView, GroupFilter"
   ]
  },
  {
   "cell_type": "code",
   "execution_count": 2,
   "metadata": {},
   "outputs": [],
   "source": [
    "df = pandas.read_csv(\"pytest.csv\")\n",
    "del df['X']\n",
    "del df['newcases']\n",
    "df['Date'] = df['Date'].astype('datetime64[ns]')\n",
    "#source = ColumnDataSource(df)\n",
    "#view = CDSView(source=source, filters=[GroupFilter(column_name='COD', group='Taizz')])"
   ]
  },
  {
   "cell_type": "code",
   "execution_count": 3,
   "metadata": {},
   "outputs": [
    {
     "name": "stdout",
     "output_type": "stream",
     "text": [
      "    Unnamed: 0       Date  Cases  Deaths  case_fatality  attack_rate    COD\n",
      "0            1 2017-05-22   1791      23            1.3        0.590  Taizz\n",
      "1            2 2017-05-27   3394      30            0.9        1.120  Taizz\n",
      "2            3 2017-05-30   4399      38            0.9        5.580  Taizz\n",
      "3            4 2017-06-04   5608      48            0.9        1.850  Taizz\n",
      "4            5 2017-06-07   7227      55            0.8        2.380  Taizz\n",
      "5            6 2017-06-10   9172      68            0.7        3.020  Taizz\n",
      "6            7 2017-06-12   9711      73            0.8        3.200  Taizz\n",
      "7            8 2017-06-13  10710      77            0.7        3.530  Taizz\n",
      "8            9 2017-06-14  11264      79            0.7        3.710  Taizz\n",
      "9           10 2017-06-17  12655      91            0.7        4.170  Taizz\n",
      "10          11 2017-06-18  13194      92            0.7        4.350  Taizz\n",
      "11          12 2017-06-19  13532      99            0.7        4.500  Taizz\n",
      "12          13 2017-06-20  14113     102            0.7        4.700  Taizz\n",
      "13          14 2017-06-21  14513     108            0.7        4.800  Taizz\n",
      "14          15 2017-06-22  15084     111            0.7        0.500  Taizz\n",
      "15          16 2017-06-23  15360     115            0.7        5.100  Taizz\n",
      "16          17 2017-06-24  15817     120            0.8        5.200  Taizz\n",
      "17          18 2017-06-25  15995     120            0.8        5.300  Taizz\n",
      "18          19 2017-06-26  16388     121            0.7        5.400  Taizz\n",
      "19          20 2017-06-27  17042     121            0.7        5.600  Taizz\n",
      "20          21 2017-06-28  17265     123            0.7        5.700  Taizz\n",
      "21          22 2017-06-29  17636     126            0.7        5.800  Taizz\n",
      "22          23 2017-06-30  18139     126            0.7        6.000  Taizz\n",
      "23          24 2017-07-01  18729     132            0.7        6.200  Taizz\n",
      "24          25 2017-07-02  19079     134            0.7        6.300  Taizz\n",
      "25          26 2017-07-03  20222     141            0.7        6.700  Taizz\n",
      "26          27 2017-07-04  20637     142            0.7        6.800  Taizz\n",
      "27          28 2017-07-05  21189     146            0.7        7.000  Taizz\n",
      "28          29 2017-07-06  21421     146            0.7        7.100  Taizz\n",
      "29          30 2017-07-07  21836     146            0.7        7.200  Taizz\n",
      "..         ...        ...    ...     ...            ...          ...    ...\n",
      "33          34 2017-07-13  23446     154            0.7        7.700  Taizz\n",
      "34          35 2017-07-14  23870     155            0.6        7.900  Taizz\n",
      "35          36 2017-07-15  24303     157            0.6        8.000  Taizz\n",
      "36          37 2017-07-16  24656     157            0.6        8.100  Taizz\n",
      "37          38 2017-07-17  25142     159            0.6        8.300  Taizz\n",
      "38          39 2017-07-18  25664     160            0.6        8.500  Taizz\n",
      "39          40 2017-07-19  25927     161            0.6        8.500  Taizz\n",
      "40          41 2017-07-20  26220     162            0.6        8.600  Taizz\n",
      "41          42 2017-07-21  26516     162            0.6        8.700  Taizz\n",
      "42          43 2017-07-22  27245     164            0.6        9.000  Taizz\n",
      "43          44 2017-07-23  27638     164            0.6        9.100  Taizz\n",
      "44          45 2017-07-24  27937     166            0.6        9.200  Taizz\n",
      "45          46 2017-07-25  28261     168            0.6        9.300  Taizz\n",
      "46          47 2017-07-26  28383     168            0.6        9.400  Taizz\n",
      "47          48 2017-07-27  28897     169            0.6        9.500  Taizz\n",
      "48          49 2017-07-28  29179     169            0.6        9.600  Taizz\n",
      "49          50 2017-07-29  29428     169            0.6        9.700  Taizz\n",
      "50          51 2017-07-30  29716     170            0.6        9.800  Taizz\n",
      "51          52 2017-07-31  30218     170            0.6       10.000  Taizz\n",
      "52          53 2017-08-01  30485     170            0.6       10.000  Taizz\n",
      "53          54 2017-08-03  31222     170            0.5       10.300  Taizz\n",
      "54          55 2017-08-06  31856     170            0.5       10.410  Taizz\n",
      "55          56 2017-08-13  33236     174            0.5       10.860  Taizz\n",
      "56          57 2017-08-15  33707     175            0.5       11.017  Taizz\n",
      "57          58 2017-08-16  33908     175            0.5       11.083  Taizz\n",
      "58          59 2017-08-17  34215     175            0.5       11.184  Taizz\n",
      "59          60 2017-08-18  34417     175            0.5       11.250  Taizz\n",
      "60          61 2017-08-19  34616     175            0.5       11.315  Taizz\n",
      "61          62 2017-08-20  34728     175            0.5       11.351  Taizz\n",
      "62          63 2017-08-21  34850     175            0.5       11.391  Taizz\n",
      "\n",
      "[63 rows x 7 columns]\n"
     ]
    }
   ],
   "source": [
    "print(df)"
   ]
  },
  {
   "cell_type": "code",
   "execution_count": 4,
   "metadata": {},
   "outputs": [],
   "source": [
    "plot = figure(title=\"Cholera Cases\", x_axis_type=\"datetime\")\n",
    "plot.circle(x=df.Date, y=df.Cases)\n",
    "output_file(\"2017Cholera.html\")\n",
    "show(plot)"
   ]
  },
  {
   "cell_type": "code",
   "execution_count": 18,
   "metadata": {
    "scrolled": true
   },
   "outputs": [
    {
     "data": {
      "text/plain": [
       "<pandas.core.groupby.DataFrameGroupBy object at 0x000000000925E940>"
      ]
     },
     "execution_count": 18,
     "metadata": {},
     "output_type": "execute_result"
    }
   ],
   "source": []
  },
  {
   "cell_type": "code",
   "execution_count": 1,
   "metadata": {
    "collapsed": true
   },
   "outputs": [],
   "source": []
  },
  {
   "cell_type": "code",
   "execution_count": null,
   "metadata": {
    "collapsed": true
   },
   "outputs": [],
   "source": []
  }
 ],
 "metadata": {
  "kernelspec": {
   "display_name": "Python 3",
   "language": "python",
   "name": "python3"
  },
  "language_info": {
   "codemirror_mode": {
    "name": "ipython",
    "version": 3
   },
   "file_extension": ".py",
   "mimetype": "text/x-python",
   "name": "python",
   "nbconvert_exporter": "python",
   "pygments_lexer": "ipython3",
   "version": "3.6.1"
  }
 },
 "nbformat": 4,
 "nbformat_minor": 2
}
