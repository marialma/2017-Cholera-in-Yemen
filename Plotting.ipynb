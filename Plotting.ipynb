{
 "cells": [
  {
   "cell_type": "code",
   "execution_count": 10,
   "metadata": {},
   "outputs": [],
   "source": [
    "import pandas\n",
    "from datetime import datetime\n",
    "\n",
    "from bokeh.plotting import figure, output_file, show, output_notebook\n",
    "from bokeh.models import ColumnDataSource, CDSView, GroupFilter, Range1d, NumeralTickFormatter\n",
    "from bokeh.layouts import row, gridplot, widgetbox, layout\n",
    "from bokeh.embed import file_html\n",
    "from bokeh.models.widgets import Paragraph, Button\n"
   ]
  },
  {
   "cell_type": "code",
   "execution_count": 11,
   "metadata": {
    "collapsed": true
   },
   "outputs": [],
   "source": [
    "df = pandas.read_csv(\"2017YemenCholera.csv\")\n",
    "del df['newcases']\n",
    "df['Date'] = df['Date'].astype('datetime64[ns]')\n",
    "source = ColumnDataSource(df) \n",
    "\n",
    "# generate a list of every governorate in COD, so this can be passed to the for loop.\n",
    "# this will let me to group by every COD\n",
    "setlist = list(set(df.COD))\n",
    "axismin = datetime.strptime('2017-05-20','%Y-%m-%d') # add in a way to find the first date\n",
    "axismax = datetime.strptime('2017-08-30','%Y-%m-%d') # add in a way to find the latest date\n"
   ]
  },
  {
   "cell_type": "code",
   "execution_count": 14,
   "metadata": {},
   "outputs": [],
   "source": [
    "sm = []\n",
    "#turns out all you need to do here is to add the plots to a list in the for loop.\n",
    "#trying to get fancy with it and using dictionaries is a no go, because show() won't take the dict keys or values as inputs.\n",
    "\n",
    "for govs in setlist:\n",
    "    view = CDSView(source=source, filters=[GroupFilter(column_name='COD', group=govs)]) \n",
    "    govs = figure(title=govs, x_axis_type=\"datetime\", plot_width=150, plot_height=150)\n",
    "    govs.circle(x='Date', y='Cases', source=source, view=view)\n",
    "    govs.x_range = Range1d(axismin,axismax)\n",
    "    govs.y_range = Range1d(0,110000)\n",
    "    govs.yaxis.formatter=NumeralTickFormatter(format=\"0a\")\n",
    "    sm.append(govs)\n",
    "\n",
    "\n",
    "output_file(\"2017Cholera.html\", title=\"2017 Cholera Outbreak in Yemen\")\n",
    "text = Paragraph(text=\"\"\"These charts show the number of cases of cholera each governorate in Yemen has seen since the start of the outbreak was declared\"\"\",\n",
    "                width=450, height=150)\n",
    "grid = gridplot([\n",
    "    [widgetbox(text),None,sm[0],sm[1],sm[2]],\n",
    "    sm[3:9],sm[9:15],sm[15:]])\n",
    "show(grid)\n"
   ]
  },
  {
   "cell_type": "code",
   "execution_count": 7,
   "metadata": {},
   "outputs": [
    {
     "ename": "SyntaxError",
     "evalue": "invalid syntax (<ipython-input-7-923a5e4290d1>, line 1)",
     "output_type": "error",
     "traceback": [
      "\u001b[1;36m  File \u001b[1;32m\"<ipython-input-7-923a5e4290d1>\"\u001b[1;36m, line \u001b[1;32m1\u001b[0m\n\u001b[1;33m    def hidegraphs\u001b[0m\n\u001b[1;37m                  ^\u001b[0m\n\u001b[1;31mSyntaxError\u001b[0m\u001b[1;31m:\u001b[0m invalid syntax\n"
     ]
    }
   ],
   "source": [
    "def hidegraphs\n",
    "button = Button(label=\"Show\", button_type=\"success\")\n",
    "button.on_click(hidegraphs)"
   ]
  },
  {
   "cell_type": "code",
   "execution_count": 16,
   "metadata": {
    "collapsed": true
   },
   "outputs": [],
   "source": [
    "sm_AR = []\n",
    "#turns out all you need to do here is to add the plots to a list in the for loop.\n",
    "#trying to get fancy with it and using dictionaries is a no go, because show() won't take the dict keys or values as inputs.\n",
    "\n",
    "for govs in setlist:\n",
    "    view = CDSView(source=source, filters=[GroupFilter(column_name='COD', group=govs)]) \n",
    "    govs = figure(title=govs, x_axis_type=\"datetime\", plot_width=150, plot_height=150)\n",
    "    govs.circle(x='Date', y='attack_rate', source=source, view=view)\n",
    "    govs.x_range = Range1d(axismin,axismax)\n",
    "    govs.y_range = Range1d(0,70)\n",
    "    sm_AR.append(govs)\n",
    "\n",
    "output_file(\"2017CholeraAR.html\", title=\"2017 Cholera Outbreak in Yemen\")\n",
    "text = Paragraph(text=\"\"\"These charts show the attack rate of cholera in each governorate in Yemen has seen since the start of the outbreak was declared\"\"\",\n",
    "                width=450, height=150)\n",
    "grid = gridplot([\n",
    "    [widgetbox(text),None,sm_AR[0],sm_AR[1],sm_AR[2]],\n",
    "    sm_AR[3:9],sm_AR[9:15],sm_AR[15:]])\n",
    "show(grid)\n"
   ]
  },
  {
   "cell_type": "code",
   "execution_count": 35,
   "metadata": {
    "collapsed": true
   },
   "outputs": [],
   "source": [
    "# this is what I did while testing to see how show() might take certain inputs\n",
    "#output_notebook()\n",
    "#view = CDSView(source=source, filters=[GroupFilter(column_name='COD', group=\"Taizz\")])\n",
    "#view2 = CDSView(source=source, filters=[GroupFilter(column_name='COD', group=\"Lahj\")])\n",
    "#view3 = CDSView(source=source, filters=[GroupFilter(column_name='COD', group=\"Marib\")])\n",
    "#plot = figure(width=250, height=250, title=\"Taizz\", x_axis_type=\"datetime\")\n",
    "#plot.circle(x='Date', y='Cases', source=source, view=view)\n",
    "#plot2 = figure(width=250, height=250, title=\"Lahj\", x_axis_type=\"datetime\")\n",
    "#plot2.circle(x='Date', y='Cases', source=source, view=view2)\n",
    "#plot3 = figure(width=250, height=250, title=\"Lahj\", x_axis_type=\"datetime\")\n",
    "#plot3.circle(x='Date', y='Cases', source=source, view=view3)\n",
    "#show(row([plot,plot2]))\n",
    "\n",
    "#bigchart = [plot, plot2,plot3]\n",
    "#print(row([plot,plot2]))\n",
    "#print(bigchart)\n",
    "#show(row(bigchart[0:]))"
   ]
  }
 ],
 "metadata": {
  "kernelspec": {
   "display_name": "Python 3",
   "language": "python",
   "name": "python3"
  },
  "language_info": {
   "codemirror_mode": {
    "name": "ipython",
    "version": 3
   },
   "file_extension": ".py",
   "mimetype": "text/x-python",
   "name": "python",
   "nbconvert_exporter": "python",
   "pygments_lexer": "ipython3",
   "version": "3.6.1"
  }
 },
 "nbformat": 4,
 "nbformat_minor": 2
}
