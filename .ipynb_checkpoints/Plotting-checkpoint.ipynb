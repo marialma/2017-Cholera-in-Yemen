{
 "cells": [
  {
   "cell_type": "code",
   "execution_count": 1,
   "metadata": {
    "collapsed": true
   },
   "outputs": [],
   "source": [
    "import pandas\n",
    "from datetime import datetime\n",
    "\n",
    "from bokeh.plotting import figure, output_file, show, output_notebook\n",
    "from bokeh.models import ColumnDataSource, CDSView, GroupFilter, Range1d\n",
    "from bokeh.layouts import row, gridplot, widgetbox, layout\n",
    "from bokeh.embed import file_html\n",
    "from bokeh.models.widgets import Paragraph\n"
   ]
  },
  {
   "cell_type": "code",
   "execution_count": 2,
   "metadata": {
    "collapsed": true
   },
   "outputs": [],
   "source": [
    "df = pandas.read_csv(\"2017YemenCholera.csv\")\n",
    "del df['newcases']\n",
    "df['Date'] = df['Date'].astype('datetime64[ns]')\n",
    "source = ColumnDataSource(df) \n",
    "\n",
    "# generate a list of every governorate in COD, so this can be passed to the for loop.\n",
    "# this will let me to group by every COD\n",
    "setlist = list(set(df.COD))"
   ]
  },
  {
   "cell_type": "code",
   "execution_count": 3,
   "metadata": {
    "collapsed": true
   },
   "outputs": [],
   "source": [
    "sm = []\n",
    "axismin = datetime.strptime('2017-05-20','%Y-%m-%d') # add in a way to find the first date\n",
    "axismax = datetime.strptime('2017-08-30','%Y-%m-%d') # add in a way to find the latest date\n",
    "\n",
    "#turns out all you need to do here is to add the plots to a list in the for loop.\n",
    "#trying to get fancy with it and using dictionaries is a no go, because show() won't take the dict keys or values as inputs.\n",
    "\n",
    "for govs in setlist:\n",
    "    view = CDSView(source=source, filters=[GroupFilter(column_name='COD', group=govs)]) \n",
    "    govs = figure(title=govs, x_axis_type=\"datetime\", plot_width=150, plot_height=150)\n",
    "    govs.circle(x='Date', y='Cases', source=source, view=view)\n",
    "    govs.x_range = Range1d(axismin,axismax)\n",
    "    govs.y_range = Range1d(0,70000)\n",
    "    sm.append(govs)\n",
    "\n",
    "output_file(\"2017Cholera.html\")\n",
    "text = Paragraph(text=\"\"\"These charts show the number of cases of cholera each governorate in Yemen has seen since the start of the outbreak was declared\"\"\",\n",
    "                width=450, height=150)\n",
    "grid = gridplot([\n",
    "    [widgetbox(text),None,sm[0],sm[1],sm[2]],\n",
    "    sm[3:9],sm[9:15],sm[15:]], )\n",
    "show(grid)\n"
   ]
  },
  {
   "cell_type": "code",
   "execution_count": 35,
   "metadata": {
    "collapsed": true
   },
   "outputs": [],
   "source": [
    "# this is what I did while testing to see how show() might take certain inputs\n",
    "#output_notebook()\n",
    "#view = CDSView(source=source, filters=[GroupFilter(column_name='COD', group=\"Taizz\")])\n",
    "#view2 = CDSView(source=source, filters=[GroupFilter(column_name='COD', group=\"Lahj\")])\n",
    "#view3 = CDSView(source=source, filters=[GroupFilter(column_name='COD', group=\"Marib\")])\n",
    "#plot = figure(width=250, height=250, title=\"Taizz\", x_axis_type=\"datetime\")\n",
    "#plot.circle(x='Date', y='Cases', source=source, view=view)\n",
    "#plot2 = figure(width=250, height=250, title=\"Lahj\", x_axis_type=\"datetime\")\n",
    "#plot2.circle(x='Date', y='Cases', source=source, view=view2)\n",
    "#plot3 = figure(width=250, height=250, title=\"Lahj\", x_axis_type=\"datetime\")\n",
    "#plot3.circle(x='Date', y='Cases', source=source, view=view3)\n",
    "#show(row([plot,plot2]))\n",
    "\n",
    "#bigchart = [plot, plot2,plot3]\n",
    "#print(row([plot,plot2]))\n",
    "#print(bigchart)\n",
    "#show(row(bigchart[0:]))"
   ]
  }
 ],
 "metadata": {
  "kernelspec": {
   "display_name": "Python 3",
   "language": "python",
   "name": "python3"
  },
  "language_info": {
   "codemirror_mode": {
    "name": "ipython",
    "version": 3
   },
   "file_extension": ".py",
   "mimetype": "text/x-python",
   "name": "python",
   "nbconvert_exporter": "python",
   "pygments_lexer": "ipython3",
   "version": "3.6.1"
  }
 },
 "nbformat": 4,
 "nbformat_minor": 2
}
