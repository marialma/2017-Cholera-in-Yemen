{
 "cells": [
  {
   "cell_type": "code",
   "execution_count": 47,
   "metadata": {
    "collapsed": true
   },
   "outputs": [],
   "source": [
    "import pandas\n",
    "from bokeh.plotting import figure, output_file, show, output_notebook\n",
    "from bokeh.models import ColumnDataSource, CDSView, GroupFilter\n",
    "from bokeh.layouts import row"
   ]
  },
  {
   "cell_type": "code",
   "execution_count": 2,
   "metadata": {
    "collapsed": true
   },
   "outputs": [],
   "source": [
    "df = pandas.read_csv(\"2017YemenCholera.csv\")\n",
    "del df['newcases']\n",
    "df['Date'] = df['Date'].astype('datetime64[ns]')\n",
    "source = ColumnDataSource(df)\n",
    "#view = CDSView(source=source, filters=[GroupFilter(column_name='COD', group=\"Al Dhale'e\")])"
   ]
  },
  {
   "cell_type": "code",
   "execution_count": 3,
   "metadata": {},
   "outputs": [
    {
     "name": "stdout",
     "output_type": "stream",
     "text": [
      "{'Dhamar', 'Amanat Al Asimah', 'Aden', 'Ibb', \"Sa'ada\", \"Al Dhale'e\", 'Raymah', 'Hajjah', 'Al Maharah', 'Al Jawf', 'Shabwah', \"Sana'a\", 'Amran', 'Lahj', 'Hadramaut', 'Al Hudaydah', 'Abyan', 'Al Mahwit', 'Al Bayda', 'Taizz', 'Marib'}\n",
      "['Dhamar', 'Amanat Al Asimah', 'Aden', 'Ibb', \"Sa'ada\", \"Al Dhale'e\", 'Raymah', 'Hajjah', 'Al Maharah', 'Al Jawf', 'Shabwah', \"Sana'a\", 'Amran', 'Lahj', 'Hadramaut', 'Al Hudaydah', 'Abyan', 'Al Mahwit', 'Al Bayda', 'Taizz', 'Marib']\n"
     ]
    }
   ],
   "source": [
    "# A list of everything in COD. \n",
    "makeset = set(df.COD)\n",
    "print (makeset)\n",
    "setlist = list(makeset)\n",
    "print (setlist)"
   ]
  },
  {
   "cell_type": "code",
   "execution_count": null,
   "metadata": {},
   "outputs": [],
   "source": []
  },
  {
   "cell_type": "code",
   "execution_count": null,
   "metadata": {
    "collapsed": true
   },
   "outputs": [],
   "source": [
    "plot = figure(title=\"Cholera Cases\", x_axis_type=\"datetime\")\n",
    "plot.circle(x='Date', y='Cases', source=source, view=view)\n",
    "output_file(\"2017Cholera.html\")\n",
    "show(plot)"
   ]
  },
  {
   "cell_type": "code",
   "execution_count": null,
   "metadata": {
    "scrolled": true
   },
   "outputs": [],
   "source": [
    "for govs in setlist:\n",
    "    view = CDSView(source=source, filters=[GroupFilter(column_name='COD', group=govs)])\n",
    "    plot = figure(title=govs, x_axis_type=\"datetime\")\n",
    "    plot.circle(x='Date', y='Cases', source=source, view=view)\n",
    "    output_file(\"2017Cholera.html\")\n",
    "    grid = gridplot()\n",
    "    \n",
    "for govs in setlist:\n",
    "    show(plot)"
   ]
  },
  {
   "cell_type": "code",
   "execution_count": 46,
   "metadata": {},
   "outputs": [
    {
     "ename": "NameError",
     "evalue": "name 'output_notebook' is not defined",
     "output_type": "error",
     "traceback": [
      "\u001b[1;31m---------------------------------------------------------------------------\u001b[0m",
      "\u001b[1;31mNameError\u001b[0m                                 Traceback (most recent call last)",
      "\u001b[1;32m<ipython-input-46-7b37db6d5074>\u001b[0m in \u001b[0;36m<module>\u001b[1;34m()\u001b[0m\n\u001b[0;32m      5\u001b[0m     \u001b[0md\u001b[0m\u001b[1;33m[\u001b[0m\u001b[1;34m\"plot{0}\"\u001b[0m\u001b[1;33m.\u001b[0m\u001b[0mformat\u001b[0m\u001b[1;33m(\u001b[0m\u001b[0mgovs\u001b[0m\u001b[1;33m)\u001b[0m\u001b[1;33m]\u001b[0m \u001b[1;33m=\u001b[0m \u001b[0mplot\u001b[0m\u001b[1;33m.\u001b[0m\u001b[0mcircle\u001b[0m\u001b[1;33m(\u001b[0m\u001b[0mx\u001b[0m\u001b[1;33m=\u001b[0m\u001b[1;34m'Date'\u001b[0m\u001b[1;33m,\u001b[0m \u001b[0my\u001b[0m\u001b[1;33m=\u001b[0m\u001b[1;34m'Cases'\u001b[0m\u001b[1;33m,\u001b[0m \u001b[0msource\u001b[0m\u001b[1;33m=\u001b[0m\u001b[0msource\u001b[0m\u001b[1;33m,\u001b[0m \u001b[0mview\u001b[0m\u001b[1;33m=\u001b[0m\u001b[0mview\u001b[0m\u001b[1;33m)\u001b[0m\u001b[1;33m\u001b[0m\u001b[0m\n\u001b[0;32m      6\u001b[0m \u001b[1;33m\u001b[0m\u001b[0m\n\u001b[1;32m----> 7\u001b[1;33m \u001b[0moutput_notebook\u001b[0m\u001b[1;33m\u001b[0m\u001b[0m\n\u001b[0m\u001b[0;32m      8\u001b[0m \u001b[1;33m\u001b[0m\u001b[0m\n\u001b[0;32m      9\u001b[0m \u001b[0mkeylist3\u001b[0m \u001b[1;33m=\u001b[0m \u001b[0mprint\u001b[0m\u001b[1;33m(\u001b[0m\u001b[0mstr\u001b[0m\u001b[1;33m(\u001b[0m\u001b[0md\u001b[0m\u001b[1;33m.\u001b[0m\u001b[0mkeys\u001b[0m\u001b[1;33m(\u001b[0m\u001b[1;33m)\u001b[0m\u001b[1;33m)\u001b[0m\u001b[1;33m)\u001b[0m\u001b[1;33m\u001b[0m\u001b[0m\n",
      "\u001b[1;31mNameError\u001b[0m: name 'output_notebook' is not defined"
     ]
    }
   ],
   "source": [
    "d={}\n",
    "plot = figure(title=govs, x_axis_type=\"datetime\")\n",
    "for govs in setlist:\n",
    "    view = CDSView(source=source, filters=[GroupFilter(column_name='COD', group=govs)]) \n",
    "    d[\"plot{0}\".format(govs)] = plot.circle(x='Date', y='Cases', source=source, view=view)\n",
    "\n",
    "output_file(\"2017Cholera.html\")\n",
    "\n",
    "keylist3 = print(str(d.keys()))\n",
    "show(row(keylist3))"
   ]
  },
  {
   "cell_type": "code",
   "execution_count": 41,
   "metadata": {},
   "outputs": [
    {
     "name": "stdout",
     "output_type": "stream",
     "text": [
      "dict_keys(['plotDhamar', 'plotAmanat Al Asimah', 'plotAden', 'plotIbb', \"plotSa'ada\", \"plotAl Dhale'e\", 'plotRaymah', 'plotHajjah', 'plotAl Maharah', 'plotAl Jawf', 'plotShabwah', \"plotSana'a\", 'plotAmran', 'plotLahj', 'plotHadramaut', 'plotAl Hudaydah', 'plotAbyan', 'plotAl Mahwit', 'plotAl Bayda', 'plotTaizz', 'plotMarib'])\n"
     ]
    }
   ],
   "source": [
    "keylist1=str(d.keys())\n",
    "print(keylist1)"
   ]
  },
  {
   "cell_type": "code",
   "execution_count": 21,
   "metadata": {
    "collapsed": true
   },
   "outputs": [],
   "source": [
    "cars = {'A':{'speed':70,\n",
    "        'color':2},\n",
    "        'B':{'speed':60,\n",
    "        'color':3}}"
   ]
  },
  {
   "cell_type": "code",
   "execution_count": 22,
   "metadata": {},
   "outputs": [
    {
     "data": {
      "text/plain": [
       "dict_items([('A', {'speed': 70, 'color': 2}), ('B', {'speed': 60, 'color': 3})])"
      ]
     },
     "execution_count": 22,
     "metadata": {},
     "output_type": "execute_result"
    }
   ],
   "source": [
    "cars.items()"
   ]
  },
  {
   "cell_type": "code",
   "execution_count": null,
   "metadata": {
    "collapsed": true
   },
   "outputs": [],
   "source": []
  }
 ],
 "metadata": {
  "kernelspec": {
   "display_name": "Python 3",
   "language": "python",
   "name": "python3"
  },
  "language_info": {
   "codemirror_mode": {
    "name": "ipython",
    "version": 3
   },
   "file_extension": ".py",
   "mimetype": "text/x-python",
   "name": "python",
   "nbconvert_exporter": "python",
   "pygments_lexer": "ipython3",
   "version": "3.6.1"
  }
 },
 "nbformat": 4,
 "nbformat_minor": 2
}
